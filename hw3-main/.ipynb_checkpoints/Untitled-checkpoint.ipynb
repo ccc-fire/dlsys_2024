{
 "cells": [
  {
   "cell_type": "code",
   "execution_count": 1,
   "id": "ecea930c-bbbe-43e1-b498-a2a0c9e1da4c",
   "metadata": {},
   "outputs": [
    {
     "name": "stdout",
     "output_type": "stream",
     "text": [
      "Tue May 21 17:47:53 2024       \n",
      "+---------------------------------------------------------------------------------------+\n",
      "| NVIDIA-SMI 535.54.06              Driver Version: 536.40       CUDA Version: 12.2     |\n",
      "|-----------------------------------------+----------------------+----------------------+\n",
      "| GPU  Name                 Persistence-M | Bus-Id        Disp.A | Volatile Uncorr. ECC |\n",
      "| Fan  Temp   Perf          Pwr:Usage/Cap |         Memory-Usage | GPU-Util  Compute M. |\n",
      "|                                         |                      |               MIG M. |\n",
      "|=========================================+======================+======================|\n",
      "|   0  NVIDIA GeForce RTX 3080        On  | 00000000:01:00.0  On |                  N/A |\n",
      "| 39%   41C    P5              29W / 320W |   1638MiB / 10240MiB |     15%      Default |\n",
      "|                                         |                      |                  N/A |\n",
      "+-----------------------------------------+----------------------+----------------------+\n",
      "                                                                                         \n",
      "+---------------------------------------------------------------------------------------+\n",
      "| Processes:                                                                            |\n",
      "|  GPU   GI   CI        PID   Type   Process name                            GPU Memory |\n",
      "|        ID   ID                                                             Usage      |\n",
      "|=======================================================================================|\n",
      "|  No running processes found                                                           |\n",
      "+---------------------------------------------------------------------------------------+\n"
     ]
    }
   ],
   "source": [
    "!nvidia-smi"
   ]
  },
  {
   "cell_type": "code",
   "execution_count": 2,
   "id": "c0a93e45-5c35-4e34-9a6b-ae1f434f0d3a",
   "metadata": {},
   "outputs": [
    {
     "name": "stdout",
     "output_type": "stream",
     "text": [
      "-- Found pybind11: /home/fire/miniconda3/lib/python3.8/site-packages/pybind11/include (found version \"2.11.1\")\n",
      "-- Found cuda, building cuda backend\n",
      "Tue May 21 17:47:56 2024       \n",
      "+---------------------------------------------------------------------------------------+\n",
      "| NVIDIA-SMI 535.54.06              Driver Version: 536.40       CUDA Version: 12.2     |\n",
      "|-----------------------------------------+----------------------+----------------------+\n",
      "| GPU  Name                 Persistence-M | Bus-Id        Disp.A | Volatile Uncorr. ECC |\n",
      "| Fan  Temp   Perf          Pwr:Usage/Cap |         Memory-Usage | GPU-Util  Compute M. |\n",
      "|                                         |                      |               MIG M. |\n",
      "|=========================================+======================+======================|\n",
      "|   0  NVIDIA GeForce RTX 3080        On  | 00000000:01:00.0  On |                  N/A |\n",
      "| 39%   41C    P5              29W / 320W |   1631MiB / 10240MiB |     19%      Default |\n",
      "|                                         |                      |                  N/A |\n",
      "+-----------------------------------------+----------------------+----------------------+\n",
      "                                                                                         \n",
      "+---------------------------------------------------------------------------------------+\n",
      "| Processes:                                                                            |\n",
      "|  GPU   GI   CI        PID   Type   Process name                            GPU Memory |\n",
      "|        ID   ID                                                             Usage      |\n",
      "|=======================================================================================|\n",
      "|  No running processes found                                                           |\n",
      "+---------------------------------------------------------------------------------------+\n",
      "-- Autodetected CUDA architecture(s):  8.6\n",
      "-- Configuring done\n",
      "-- Generating done\n",
      "-- Build files have been written to: /home/fire/dlsys_2024/hw3-main/build\n",
      "make[1]: Entering directory '/home/fire/dlsys_2024/hw3-main/build'\n",
      "make[2]: Entering directory '/home/fire/dlsys_2024/hw3-main/build'\n",
      "make[3]: Entering directory '/home/fire/dlsys_2024/hw3-main/build'\n",
      "make[3]: Leaving directory '/home/fire/dlsys_2024/hw3-main/build'\n",
      "make[3]: Entering directory '/home/fire/dlsys_2024/hw3-main/build'\n",
      "[ 25%] \u001b[32m\u001b[1mLinking CXX shared module ../python/needle/backend_ndarray/ndarray_backend_cuda.cpython-38-x86_64-linux-gnu.so\u001b[0m\n",
      "make[3]: Leaving directory '/home/fire/dlsys_2024/hw3-main/build'\n",
      "[ 50%] Built target ndarray_backend_cuda\n",
      "make[3]: Entering directory '/home/fire/dlsys_2024/hw3-main/build'\n",
      "make[3]: Leaving directory '/home/fire/dlsys_2024/hw3-main/build'\n",
      "[100%] Built target ndarray_backend_cpu\n",
      "make[2]: Leaving directory '/home/fire/dlsys_2024/hw3-main/build'\n",
      "make[1]: Leaving directory '/home/fire/dlsys_2024/hw3-main/build'\n"
     ]
    }
   ],
   "source": [
    "!make"
   ]
  },
  {
   "cell_type": "code",
   "execution_count": 3,
   "id": "0334862d-4f53-4e0a-815e-bf646cd7ad3f",
   "metadata": {},
   "outputs": [
    {
     "name": "stdout",
     "output_type": "stream",
     "text": [
      "env: PYTHONPATH=./python\n",
      "env: NEEDLE_BACKEND=nd\n"
     ]
    }
   ],
   "source": [
    "%set_env PYTHONPATH ./python\n",
    "%set_env NEEDLE_BACKEND nd"
   ]
  },
  {
   "cell_type": "code",
   "execution_count": 4,
   "id": "9b2fb387-6302-456b-93cb-d29b30699857",
   "metadata": {},
   "outputs": [],
   "source": [
    "import sys\n",
    "sys.path.append('./python')"
   ]
  },
  {
   "cell_type": "code",
   "execution_count": 17,
   "id": "79f732e4-5ea7-4453-a3d4-d36e5b3a5aef",
   "metadata": {},
   "outputs": [
    {
     "data": {
      "text/plain": [
       "2"
      ]
     },
     "execution_count": 17,
     "metadata": {},
     "output_type": "execute_result"
    }
   ],
   "source": [
    "1+1"
   ]
  },
  {
   "cell_type": "code",
   "execution_count": 5,
   "id": "21e69ecb-4901-4c8f-968c-3504be92f92c",
   "metadata": {},
   "outputs": [
    {
     "name": "stdout",
     "output_type": "stream",
     "text": [
      "Using needle backend\n"
     ]
    }
   ],
   "source": [
    "from needle import backend_ndarray as nd"
   ]
  },
  {
   "cell_type": "code",
   "execution_count": 6,
   "id": "843c393e-27f9-4c63-add1-614fcda75016",
   "metadata": {},
   "outputs": [
    {
     "data": {
      "text/plain": [
       "cpu()"
      ]
     },
     "execution_count": 6,
     "metadata": {},
     "output_type": "execute_result"
    }
   ],
   "source": [
    "x = nd.NDArray([1, 2, 3], device = nd.cpu())\n",
    "x.device"
   ]
  },
  {
   "cell_type": "code",
   "execution_count": 12,
   "id": "ada39105-8136-428c-b5e3-123aeb3bcb4c",
   "metadata": {},
   "outputs": [
    {
     "data": {
      "text/plain": [
       "cuda()"
      ]
     },
     "execution_count": 12,
     "metadata": {},
     "output_type": "execute_result"
    }
   ],
   "source": [
    "x = nd.NDArray([1, 2, 3], device=nd.cuda())\n",
    "x.device"
   ]
  },
  {
   "cell_type": "code",
   "execution_count": 1,
   "id": "29ce9c01-9a9f-459d-a633-b6281131d2cd",
   "metadata": {},
   "outputs": [
    {
     "ename": "ModuleNotFoundError",
     "evalue": "No module named 'torch'",
     "output_type": "error",
     "traceback": [
      "\u001b[0;31m---------------------------------------------------------------------------\u001b[0m",
      "\u001b[0;31mModuleNotFoundError\u001b[0m                       Traceback (most recent call last)",
      "Cell \u001b[0;32mIn[1], line 1\u001b[0m\n\u001b[0;32m----> 1\u001b[0m \u001b[38;5;28;01mimport\u001b[39;00m \u001b[38;5;21;01mtorch\u001b[39;00m\u001b[38;5;21;01m.\u001b[39;00m\u001b[38;5;21;01mnn\u001b[39;00m \u001b[38;5;28;01mas\u001b[39;00m \u001b[38;5;21;01mnn\u001b[39;00m\n",
      "\u001b[0;31mModuleNotFoundError\u001b[0m: No module named 'torch'"
     ]
    }
   ],
   "source": [
    "import torch.nn as nn"
   ]
  },
  {
   "cell_type": "code",
   "execution_count": 1,
   "id": "abde906f-1f29-4363-a2d1-6ea5b623c9f0",
   "metadata": {},
   "outputs": [],
   "source": [
    "import ctypes"
   ]
  },
  {
   "cell_type": "code",
   "execution_count": 2,
   "id": "ac82d34b-7734-4b79-9069-70510462f592",
   "metadata": {},
   "outputs": [],
   "source": [
    "import numpy as np"
   ]
  },
  {
   "cell_type": "code",
   "execution_count": 4,
   "id": "bbcadb00-df07-4385-b3b3-1330022ca0b2",
   "metadata": {},
   "outputs": [],
   "source": [
    "a = np.arange(36, dtype=np.float32).reshape(6, 6)"
   ]
  },
  {
   "cell_type": "code",
   "execution_count": 5,
   "id": "ce4eff9f-b2cf-4eab-9826-d16a870dfe77",
   "metadata": {},
   "outputs": [
    {
     "name": "stdout",
     "output_type": "stream",
     "text": [
      "[[ 0.  1.  2.  3.  4.  5.]\n",
      " [ 6.  7.  8.  9. 10. 11.]\n",
      " [12. 13. 14. 15. 16. 17.]\n",
      " [18. 19. 20. 21. 22. 23.]\n",
      " [24. 25. 26. 27. 28. 29.]\n",
      " [30. 31. 32. 33. 34. 35.]]\n"
     ]
    }
   ],
   "source": [
    "print(a)"
   ]
  },
  {
   "cell_type": "code",
   "execution_count": 8,
   "id": "36b46788-5735-4336-b131-e49dc1e9d670",
   "metadata": {},
   "outputs": [
    {
     "name": "stdout",
     "output_type": "stream",
     "text": [
      "[ 0.  1.  2.  3.  4.  5.  6.  7.  8.  9. 10. 11. 12. 13. 14. 15. 16. 17.\n",
      " 18. 19. 20. 21. 22. 23. 24. 25. 26. 27. 28. 29. 30. 31. 32. 33. 34. 35.]\n"
     ]
    }
   ],
   "source": [
    "print(np.frombuffer(ctypes.string_at(a.ctypes.data, a.nbytes), dtype=a.dtype, count=a.size))"
   ]
  },
  {
   "cell_type": "code",
   "execution_count": 10,
   "id": "3994e51b-8e52-43b7-ba94-9c5b22e4effd",
   "metadata": {},
   "outputs": [
    {
     "data": {
      "text/plain": [
       "(24, 4)"
      ]
     },
     "execution_count": 10,
     "metadata": {},
     "output_type": "execute_result"
    }
   ],
   "source": [
    "a.strides"
   ]
  },
  {
   "cell_type": "code",
   "execution_count": 11,
   "id": "f08f1557-813f-4e2a-986a-c649a5b9094d",
   "metadata": {},
   "outputs": [
    {
     "data": {
      "text/plain": [
       "array([[[[ 0.,  1.],\n",
       "         [ 6.,  7.]],\n",
       "\n",
       "        [[ 2.,  3.],\n",
       "         [ 8.,  9.]],\n",
       "\n",
       "        [[ 4.,  5.],\n",
       "         [10., 11.]]],\n",
       "\n",
       "\n",
       "       [[[12., 13.],\n",
       "         [18., 19.]],\n",
       "\n",
       "        [[14., 15.],\n",
       "         [20., 21.]],\n",
       "\n",
       "        [[16., 17.],\n",
       "         [22., 23.]]],\n",
       "\n",
       "\n",
       "       [[[24., 25.],\n",
       "         [30., 31.]],\n",
       "\n",
       "        [[26., 27.],\n",
       "         [32., 33.]],\n",
       "\n",
       "        [[28., 29.],\n",
       "         [34., 35.]]]], dtype=float32)"
      ]
     },
     "execution_count": 11,
     "metadata": {},
     "output_type": "execute_result"
    }
   ],
   "source": [
    "from numpy.lib.stride_tricks import as_strided\n",
    "as_strided(a, shape=(3, 3, 2, 2), strides=np.array((12, 2, 4, 1))*4)"
   ]
  }
 ],
 "metadata": {
  "kernelspec": {
   "display_name": "Python 3 (ipykernel)",
   "language": "python",
   "name": "python3"
  },
  "language_info": {
   "codemirror_mode": {
    "name": "ipython",
    "version": 3
   },
   "file_extension": ".py",
   "mimetype": "text/x-python",
   "name": "python",
   "nbconvert_exporter": "python",
   "pygments_lexer": "ipython3",
   "version": "3.8.10"
  }
 },
 "nbformat": 4,
 "nbformat_minor": 5
}
