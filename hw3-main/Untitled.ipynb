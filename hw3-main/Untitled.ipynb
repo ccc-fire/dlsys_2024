{
 "cells": [
  {
   "cell_type": "code",
   "execution_count": 1,
   "id": "ecea930c-bbbe-43e1-b498-a2a0c9e1da4c",
   "metadata": {},
   "outputs": [
    {
     "name": "stdout",
     "output_type": "stream",
     "text": [
      "Tue May 21 17:47:53 2024       \n",
      "+---------------------------------------------------------------------------------------+\n",
      "| NVIDIA-SMI 535.54.06              Driver Version: 536.40       CUDA Version: 12.2     |\n",
      "|-----------------------------------------+----------------------+----------------------+\n",
      "| GPU  Name                 Persistence-M | Bus-Id        Disp.A | Volatile Uncorr. ECC |\n",
      "| Fan  Temp   Perf          Pwr:Usage/Cap |         Memory-Usage | GPU-Util  Compute M. |\n",
      "|                                         |                      |               MIG M. |\n",
      "|=========================================+======================+======================|\n",
      "|   0  NVIDIA GeForce RTX 3080        On  | 00000000:01:00.0  On |                  N/A |\n",
      "| 39%   41C    P5              29W / 320W |   1638MiB / 10240MiB |     15%      Default |\n",
      "|                                         |                      |                  N/A |\n",
      "+-----------------------------------------+----------------------+----------------------+\n",
      "                                                                                         \n",
      "+---------------------------------------------------------------------------------------+\n",
      "| Processes:                                                                            |\n",
      "|  GPU   GI   CI        PID   Type   Process name                            GPU Memory |\n",
      "|        ID   ID                                                             Usage      |\n",
      "|=======================================================================================|\n",
      "|  No running processes found                                                           |\n",
      "+---------------------------------------------------------------------------------------+\n"
     ]
    }
   ],
   "source": [
    "!nvidia-smi"
   ]
  },
  {
   "cell_type": "code",
   "execution_count": 2,
   "id": "c0a93e45-5c35-4e34-9a6b-ae1f434f0d3a",
   "metadata": {},
   "outputs": [
    {
     "name": "stdout",
     "output_type": "stream",
     "text": [
      "-- Found pybind11: /home/fire/miniconda3/lib/python3.8/site-packages/pybind11/include (found version \"2.11.1\")\n",
      "-- Found cuda, building cuda backend\n",
      "Tue May 21 17:47:56 2024       \n",
      "+---------------------------------------------------------------------------------------+\n",
      "| NVIDIA-SMI 535.54.06              Driver Version: 536.40       CUDA Version: 12.2     |\n",
      "|-----------------------------------------+----------------------+----------------------+\n",
      "| GPU  Name                 Persistence-M | Bus-Id        Disp.A | Volatile Uncorr. ECC |\n",
      "| Fan  Temp   Perf          Pwr:Usage/Cap |         Memory-Usage | GPU-Util  Compute M. |\n",
      "|                                         |                      |               MIG M. |\n",
      "|=========================================+======================+======================|\n",
      "|   0  NVIDIA GeForce RTX 3080        On  | 00000000:01:00.0  On |                  N/A |\n",
      "| 39%   41C    P5              29W / 320W |   1631MiB / 10240MiB |     19%      Default |\n",
      "|                                         |                      |                  N/A |\n",
      "+-----------------------------------------+----------------------+----------------------+\n",
      "                                                                                         \n",
      "+---------------------------------------------------------------------------------------+\n",
      "| Processes:                                                                            |\n",
      "|  GPU   GI   CI        PID   Type   Process name                            GPU Memory |\n",
      "|        ID   ID                                                             Usage      |\n",
      "|=======================================================================================|\n",
      "|  No running processes found                                                           |\n",
      "+---------------------------------------------------------------------------------------+\n",
      "-- Autodetected CUDA architecture(s):  8.6\n",
      "-- Configuring done\n",
      "-- Generating done\n",
      "-- Build files have been written to: /home/fire/dlsys_2024/hw3-main/build\n",
      "make[1]: Entering directory '/home/fire/dlsys_2024/hw3-main/build'\n",
      "make[2]: Entering directory '/home/fire/dlsys_2024/hw3-main/build'\n",
      "make[3]: Entering directory '/home/fire/dlsys_2024/hw3-main/build'\n",
      "make[3]: Leaving directory '/home/fire/dlsys_2024/hw3-main/build'\n",
      "make[3]: Entering directory '/home/fire/dlsys_2024/hw3-main/build'\n",
      "[ 25%] \u001b[32m\u001b[1mLinking CXX shared module ../python/needle/backend_ndarray/ndarray_backend_cuda.cpython-38-x86_64-linux-gnu.so\u001b[0m\n",
      "make[3]: Leaving directory '/home/fire/dlsys_2024/hw3-main/build'\n",
      "[ 50%] Built target ndarray_backend_cuda\n",
      "make[3]: Entering directory '/home/fire/dlsys_2024/hw3-main/build'\n",
      "make[3]: Leaving directory '/home/fire/dlsys_2024/hw3-main/build'\n",
      "[100%] Built target ndarray_backend_cpu\n",
      "make[2]: Leaving directory '/home/fire/dlsys_2024/hw3-main/build'\n",
      "make[1]: Leaving directory '/home/fire/dlsys_2024/hw3-main/build'\n"
     ]
    }
   ],
   "source": [
    "!make"
   ]
  },
  {
   "cell_type": "code",
   "execution_count": 3,
   "id": "0334862d-4f53-4e0a-815e-bf646cd7ad3f",
   "metadata": {},
   "outputs": [
    {
     "name": "stdout",
     "output_type": "stream",
     "text": [
      "env: PYTHONPATH=./python\n",
      "env: NEEDLE_BACKEND=nd\n"
     ]
    }
   ],
   "source": [
    "%set_env PYTHONPATH ./python\n",
    "%set_env NEEDLE_BACKEND nd"
   ]
  },
  {
   "cell_type": "code",
   "execution_count": 4,
   "id": "9b2fb387-6302-456b-93cb-d29b30699857",
   "metadata": {},
   "outputs": [],
   "source": [
    "import sys\n",
    "sys.path.append('./python')"
   ]
  },
  {
   "cell_type": "code",
   "execution_count": 17,
   "id": "79f732e4-5ea7-4453-a3d4-d36e5b3a5aef",
   "metadata": {},
   "outputs": [
    {
     "data": {
      "text/plain": [
       "2"
      ]
     },
     "execution_count": 17,
     "metadata": {},
     "output_type": "execute_result"
    }
   ],
   "source": [
    "1+1"
   ]
  },
  {
   "cell_type": "code",
   "execution_count": 5,
   "id": "21e69ecb-4901-4c8f-968c-3504be92f92c",
   "metadata": {},
   "outputs": [
    {
     "name": "stdout",
     "output_type": "stream",
     "text": [
      "Using needle backend\n"
     ]
    }
   ],
   "source": [
    "from needle import backend_ndarray as nd"
   ]
  },
  {
   "cell_type": "code",
   "execution_count": 6,
   "id": "843c393e-27f9-4c63-add1-614fcda75016",
   "metadata": {},
   "outputs": [
    {
     "data": {
      "text/plain": [
       "cpu()"
      ]
     },
     "execution_count": 6,
     "metadata": {},
     "output_type": "execute_result"
    }
   ],
   "source": [
    "x = nd.NDArray([1, 2, 3], device = nd.cpu())\n",
    "x.device"
   ]
  },
  {
   "cell_type": "code",
   "execution_count": 12,
   "id": "ada39105-8136-428c-b5e3-123aeb3bcb4c",
   "metadata": {},
   "outputs": [
    {
     "data": {
      "text/plain": [
       "cuda()"
      ]
     },
     "execution_count": 12,
     "metadata": {},
     "output_type": "execute_result"
    }
   ],
   "source": [
    "x = nd.NDArray([1, 2, 3], device=nd.cuda())\n",
    "x.device"
   ]
  },
  {
   "cell_type": "code",
   "execution_count": 1,
   "id": "29ce9c01-9a9f-459d-a633-b6281131d2cd",
   "metadata": {},
   "outputs": [
    {
     "ename": "ModuleNotFoundError",
     "evalue": "No module named 'torch'",
     "output_type": "error",
     "traceback": [
      "\u001b[0;31m---------------------------------------------------------------------------\u001b[0m",
      "\u001b[0;31mModuleNotFoundError\u001b[0m                       Traceback (most recent call last)",
      "Cell \u001b[0;32mIn[1], line 1\u001b[0m\n\u001b[0;32m----> 1\u001b[0m \u001b[38;5;28;01mimport\u001b[39;00m \u001b[38;5;21;01mtorch\u001b[39;00m\u001b[38;5;21;01m.\u001b[39;00m\u001b[38;5;21;01mnn\u001b[39;00m \u001b[38;5;28;01mas\u001b[39;00m \u001b[38;5;21;01mnn\u001b[39;00m\n",
      "\u001b[0;31mModuleNotFoundError\u001b[0m: No module named 'torch'"
     ]
    }
   ],
   "source": [
    "import torch.nn as nn"
   ]
  }
 ],
 "metadata": {
  "kernelspec": {
   "display_name": "Python 3 (ipykernel)",
   "language": "python",
   "name": "python3"
  },
  "language_info": {
   "codemirror_mode": {
    "name": "ipython",
    "version": 3
   },
   "file_extension": ".py",
   "mimetype": "text/x-python",
   "name": "python",
   "nbconvert_exporter": "python",
   "pygments_lexer": "ipython3",
   "version": "3.8.10"
  }
 },
 "nbformat": 4,
 "nbformat_minor": 5
}
